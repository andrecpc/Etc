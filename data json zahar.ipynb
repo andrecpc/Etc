{
 "cells": [
  {
   "cell_type": "code",
   "execution_count": 57,
   "metadata": {},
   "outputs": [
    {
     "data": {
      "text/plain": [
       "['п»ї[\\n',\n",
       " '  {\"date\": вЂ™2018-09-01вЂ™, \"name\": \"Sholay\", \"count\": 116},\\n',\n",
       " '  {\"date\": вЂ™2018-09-05вЂ™, \"name\": \"Dangal\", \"count\": 984},\\n',\n",
       " '  {\"date\": вЂ™2018-09-08вЂ™, \"name\": \"Dangal\", \"count\": 56},\\n',\n",
       " '  {\"date\": \"2018-09-01\", \"name\": \"Sholay\", \"count\": 166716},\\n',\n",
       " '  {\"date\": \"2018-09-01\", \"name\": \"Dangal\", \"count\": 94},\\n',\n",
       " '  {\"date\": \"2018-09-03\", \"name\": \"Dangal\", \"count\": 56},\\n',\n",
       " '  {\"date\":\"2018-09-09\", \"name\":\"Sholay\",\"count\":4},\\n',\n",
       " '  {\"date\":\"2018-07-02\",\"name\":\"Dangal\",\"count\":4},\\n',\n",
       " '  {\"date\": вЂ™2010-09-01вЂ™, \"name\": \"Sholay\", \"count\": 116},\\n',\n",
       " '  {\"date\": вЂ™2010-09-02вЂ™, \"name\": \"Dangal\", \"count\": 94},\\n',\n",
       " '  {\"date\": вЂ™2010-09-00вЂ™, \"name\": \"Dangal\", \"count\": 56},\\n',\n",
       " '  {\"date\": \"2018-06-31\", \"name\": \"Sholay\", \"count\": 4},\\n',\n",
       " '  {\"date\": \"2017-09-47\", \"name\": \"Dangal\", \"count\": 94},\\n',\n",
       " '  {\"date\": \"2018-09-03\", \"name\": \"Dangal\", \"count\": 56},\\n',\n",
       " '  {\"date\":\"2018-09-01\", \"name\":\"Sholay\",\"count\":999},\\n',\n",
       " '  {\"date\":\"2018-09-02\",\"name\":\"Dangal\",\"count\":000600},\\n',\n",
       " '  {\"date\": вЂ™18-09-08вЂ™, \"name\": \"Dangal\", \"count\": 4},\\n',\n",
       " '  {\"date\": вЂ™2023-09-08вЂ™, \"name\": \"Dangal\", \"count\": 4},\\n',\n",
       " '  {\"date\": вЂ™2018-09-08вЂ™, \"name\": \"Dangal\", \"count\": 4},\\n',\n",
       " '  {\"date\": вЂ™2018-09-08вЂ™, \"name\": \"Dangal\", \"count\": 4},\\n',\n",
       " '  {\"date\": вЂ™2018-09-08вЂ™, \"name\": \"Dangal\", \"count\": 4},\\n',\n",
       " '  {\"date\": вЂ™2018-09-08вЂ™, \"name\": \"Dangal\", \"count\": 4},\\n',\n",
       " '  {\"date\":\"2018-09-03\",\"name\":\"Dangal\",\"count\":004}\\n',\n",
       " ']\\n']"
      ]
     },
     "execution_count": 57,
     "metadata": {},
     "output_type": "execute_result"
    }
   ],
   "source": [
    "spisok = []\n",
    "with open(\"data.json\") as file_handler:\n",
    "    for line in file_handler:\n",
    "        spisok.append(line)\n",
    "spisok"
   ]
  },
  {
   "cell_type": "code",
   "execution_count": 58,
   "metadata": {},
   "outputs": [
    {
     "data": {
      "text/plain": [
       "['  {\"date\": вЂ™2018-09-01вЂ™, \"name\": \"Sholay\", \"count\": 116},\\n',\n",
       " '  {\"date\": вЂ™2018-09-05вЂ™, \"name\": \"Dangal\", \"count\": 984},\\n',\n",
       " '  {\"date\": вЂ™2018-09-08вЂ™, \"name\": \"Dangal\", \"count\": 56},\\n',\n",
       " '  {\"date\": \"2018-09-01\", \"name\": \"Sholay\", \"count\": 166716},\\n',\n",
       " '  {\"date\": \"2018-09-01\", \"name\": \"Dangal\", \"count\": 94},\\n',\n",
       " '  {\"date\": \"2018-09-03\", \"name\": \"Dangal\", \"count\": 56},\\n',\n",
       " '  {\"date\":\"2018-09-09\", \"name\":\"Sholay\",\"count\":4},\\n',\n",
       " '  {\"date\":\"2018-07-02\",\"name\":\"Dangal\",\"count\":4},\\n',\n",
       " '  {\"date\": вЂ™2010-09-01вЂ™, \"name\": \"Sholay\", \"count\": 116},\\n',\n",
       " '  {\"date\": вЂ™2010-09-02вЂ™, \"name\": \"Dangal\", \"count\": 94},\\n',\n",
       " '  {\"date\": вЂ™2010-09-00вЂ™, \"name\": \"Dangal\", \"count\": 56},\\n',\n",
       " '  {\"date\": \"2018-06-31\", \"name\": \"Sholay\", \"count\": 4},\\n',\n",
       " '  {\"date\": \"2017-09-47\", \"name\": \"Dangal\", \"count\": 94},\\n',\n",
       " '  {\"date\": \"2018-09-03\", \"name\": \"Dangal\", \"count\": 56},\\n',\n",
       " '  {\"date\":\"2018-09-01\", \"name\":\"Sholay\",\"count\":999},\\n',\n",
       " '  {\"date\":\"2018-09-02\",\"name\":\"Dangal\",\"count\":000600},\\n',\n",
       " '  {\"date\": вЂ™18-09-08вЂ™, \"name\": \"Dangal\", \"count\": 4},\\n',\n",
       " '  {\"date\": вЂ™2023-09-08вЂ™, \"name\": \"Dangal\", \"count\": 4},\\n',\n",
       " '  {\"date\": вЂ™2018-09-08вЂ™, \"name\": \"Dangal\", \"count\": 4},\\n',\n",
       " '  {\"date\": вЂ™2018-09-08вЂ™, \"name\": \"Dangal\", \"count\": 4},\\n',\n",
       " '  {\"date\": вЂ™2018-09-08вЂ™, \"name\": \"Dangal\", \"count\": 4},\\n',\n",
       " '  {\"date\": вЂ™2018-09-08вЂ™, \"name\": \"Dangal\", \"count\": 4},\\n',\n",
       " '  {\"date\":\"2018-09-03\",\"name\":\"Dangal\",\"count\":004}\\n']"
      ]
     },
     "execution_count": 58,
     "metadata": {},
     "output_type": "execute_result"
    }
   ],
   "source": [
    "spisok = [el for el in spisok if len(el)>10]\n",
    "spisok"
   ]
  },
  {
   "cell_type": "code",
   "execution_count": 59,
   "metadata": {},
   "outputs": [
    {
     "data": {
      "text/plain": [
       "['2018-09-01',\n",
       " '2018-09-05',\n",
       " '2018-09-08',\n",
       " '2018-09-01',\n",
       " '2018-09-01',\n",
       " '2018-09-03',\n",
       " '2018-09-09',\n",
       " '2018-07-02',\n",
       " '2010-09-01',\n",
       " '2010-09-02',\n",
       " '2010-09-00',\n",
       " '2018-06-31',\n",
       " '2017-09-47',\n",
       " '2018-09-03',\n",
       " '2018-09-01',\n",
       " '2018-09-02',\n",
       " 'Ђ™18-09-08',\n",
       " '2023-09-08',\n",
       " '2018-09-08',\n",
       " '2018-09-08',\n",
       " '2018-09-08',\n",
       " '2018-09-08',\n",
       " '2018-09-03']"
      ]
     },
     "execution_count": 59,
     "metadata": {},
     "output_type": "execute_result"
    }
   ],
   "source": [
    "dates = [el[el.find('-')-4:el.find('-')+6] for el in spisok]\n",
    "dates"
   ]
  },
  {
   "cell_type": "code",
   "execution_count": 20,
   "metadata": {},
   "outputs": [
    {
     "data": {
      "text/plain": [
       "[116, 984, 56, 166716, 94, 56, 1, 1, 116, 94, 56, 116, 94, 56, 999, 600, 1]"
      ]
     },
     "execution_count": 20,
     "metadata": {},
     "output_type": "execute_result"
    }
   ],
   "source": [
    "counts = [el[el.rfind('count')+6:el.rfind('}')] for el in spisok]\n",
    "new_counts = []\n",
    "for el in counts:\n",
    "    new_counts.append(el.replace(':',''))\n",
    "new_counts = [int(el) for el in new_counts]\n",
    "new_counts"
   ]
  },
  {
   "cell_type": "code",
   "execution_count": 21,
   "metadata": {},
   "outputs": [
    {
     "data": {
      "text/plain": [
       "1"
      ]
     },
     "execution_count": 21,
     "metadata": {},
     "output_type": "execute_result"
    }
   ],
   "source": [
    "min_el = min(new_counts)\n",
    "min_el"
   ]
  },
  {
   "cell_type": "code",
   "execution_count": 22,
   "metadata": {},
   "outputs": [
    {
     "name": "stdout",
     "output_type": "stream",
     "text": [
      "['2018-09-09', '2018-07-02', '2018-09-03']\n"
     ]
    }
   ],
   "source": [
    "fin_dates = []\n",
    "i = 0\n",
    "for i in range(len(new_counts)):\n",
    "    if new_counts[i] == min_el:\n",
    "        fin_dates.append(dates[i])\n",
    "print(fin_dates)"
   ]
  },
  {
   "cell_type": "code",
   "execution_count": 23,
   "metadata": {},
   "outputs": [
    {
     "data": {
      "text/plain": [
       "['2018-07-02', '2018-09-03', '2018-09-09']"
      ]
     },
     "execution_count": 23,
     "metadata": {},
     "output_type": "execute_result"
    }
   ],
   "source": [
    "answ = sorted(fin_dates, key=lambda d: int(d.replace('-','')))\n",
    "answ"
   ]
  },
  {
   "cell_type": "code",
   "execution_count": 24,
   "metadata": {},
   "outputs": [
    {
     "name": "stdout",
     "output_type": "stream",
     "text": [
      "2018-07-02\n",
      "2018-09-03\n",
      "2018-09-09\n"
     ]
    }
   ],
   "source": [
    "for elem in answ:\n",
    "    print(elem)"
   ]
  },
  {
   "cell_type": "markdown",
   "metadata": {},
   "source": [
    "# Далее уже скрипт"
   ]
  },
  {
   "cell_type": "code",
   "execution_count": 60,
   "metadata": {},
   "outputs": [
    {
     "name": "stdout",
     "output_type": "stream",
     "text": [
      "0018-09-08\n",
      "2018-06-31\n",
      "2018-07-02\n",
      "2018-09-03\n",
      "2018-09-08\n",
      "2018-09-08\n",
      "2018-09-08\n",
      "2018-09-08\n",
      "2018-09-09\n",
      "2023-09-08\n"
     ]
    }
   ],
   "source": [
    "spisok = []\n",
    "with open(\"data.json\") as file_handler:\n",
    "    for line in file_handler:\n",
    "        spisok.append(line)\n",
    "        \n",
    "spisok = [el for el in spisok if len(el)>10]\n",
    "dates = [el[el.find('-')-4:el.find('-')+6] for el in spisok]\n",
    "\n",
    "if len(dates)==0:\n",
    "    print()\n",
    "else:\n",
    "    counts = [el[el.rfind('count')+6:el.rfind('}')] for el in spisok]\n",
    "    \n",
    "    new_counts = []\n",
    "    for el in counts:\n",
    "        new_counts.append(el.replace(':',''))\n",
    "    new_counts = [int(el) for el in new_counts]\n",
    "    \n",
    "    min_el = min(new_counts)\n",
    "    \n",
    "    fin_dates = []\n",
    "    i = 0\n",
    "    for i in range(len(new_counts)):\n",
    "        if new_counts[i] == min_el:\n",
    "            fin_dates.append(dates[i])\n",
    "    \n",
    "    answ = sorted(fin_dates, key=lambda d: int(d.replace('-','')))\n",
    "    for elem in answ:\n",
    "        print(elem)"
   ]
  },
  {
   "cell_type": "code",
   "execution_count": 61,
   "metadata": {},
   "outputs": [
    {
     "data": {
      "text/plain": [
       "4"
      ]
     },
     "execution_count": 61,
     "metadata": {},
     "output_type": "execute_result"
    }
   ],
   "source": [
    "min_el"
   ]
  },
  {
   "cell_type": "code",
   "execution_count": null,
   "metadata": {
    "collapsed": true
   },
   "outputs": [],
   "source": []
  }
 ],
 "metadata": {
  "kernelspec": {
   "display_name": "Python 3",
   "language": "python",
   "name": "python3"
  },
  "language_info": {
   "codemirror_mode": {
    "name": "ipython",
    "version": 3
   },
   "file_extension": ".py",
   "mimetype": "text/x-python",
   "name": "python",
   "nbconvert_exporter": "python",
   "pygments_lexer": "ipython3",
   "version": "3.6.3"
  }
 },
 "nbformat": 4,
 "nbformat_minor": 2
}
