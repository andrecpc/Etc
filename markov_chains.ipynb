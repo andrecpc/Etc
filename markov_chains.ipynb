{
 "cells": [
  {
   "cell_type": "code",
   "execution_count": 28,
   "metadata": {},
   "outputs": [
    {
     "name": "stdout",
     "output_type": "stream",
     "text": [
      "4\n"
     ]
    }
   ],
   "source": [
    "# import sys\n",
    "# j = sys.stdin.readline().strip()\n",
    "n = input()"
   ]
  },
  {
   "cell_type": "code",
   "execution_count": 2,
   "metadata": {},
   "outputs": [
    {
     "name": "stdout",
     "output_type": "stream",
     "text": [
      "55 20 15 10\n",
      "['55', '20', '15', '10']\n",
      "25 20 35 20\n",
      "['25', '20', '35', '20']\n",
      "50 5 25 20\n",
      "['50', '5', '25', '20']\n",
      "65 20 10 5\n",
      "['65', '20', '10', '5']\n"
     ]
    },
    {
     "data": {
      "text/plain": [
       "[[55, 20, 15, 10], [25, 20, 35, 20], [50, 5, 25, 20], [65, 20, 10, 5]]"
      ]
     },
     "execution_count": 2,
     "metadata": {},
     "output_type": "execute_result"
    }
   ],
   "source": [
    "matr = []\n",
    "for i in range(int(n)):\n",
    "    mas = []\n",
    "    el = input().split(' ')\n",
    "#     print(el)\n",
    "    for elem in el:\n",
    "        try:\n",
    "            mas.append(int(elem))\n",
    "        except ValueError:\n",
    "            pass\n",
    "    matr.append(mas)\n",
    "matr"
   ]
  },
  {
   "cell_type": "code",
   "execution_count": 7,
   "metadata": {},
   "outputs": [
    {
     "data": {
      "text/plain": [
       "[[0.55, 0.2, 0.15, 0.1],\n",
       " [0.25, 0.2, 0.35, 0.2],\n",
       " [0.5, 0.05, 0.25, 0.2],\n",
       " [0.65, 0.2, 0.1, 0.05]]"
      ]
     },
     "execution_count": 7,
     "metadata": {},
     "output_type": "execute_result"
    }
   ],
   "source": [
    "for i in range(len(matr)):\n",
    "    for j in range(len(matr[0])):\n",
    "           matr[i][j]=matr[i][j]/100\n",
    "matr  "
   ]
  },
  {
   "cell_type": "code",
   "execution_count": 15,
   "metadata": {},
   "outputs": [
    {
     "name": "stdout",
     "output_type": "stream",
     "text": [
      "[0.49250000000000005, 0.17750000000000005, 0.2, 0.13]\n",
      "[0.4925, 0.14750000000000002, 0.21499999999999997, 0.14500000000000002]\n",
      "[0.5425, 0.16250000000000003, 0.175, 0.12000000000000002]\n",
      "[0.49, 0.18500000000000003, 0.19749999999999998, 0.1275]\n"
     ]
    }
   ],
   "source": [
    "# X = [[12,7,3],\n",
    "#  [4 ,5,6],\n",
    "#  [7 ,8,9]]\n",
    "# # 3x4 matrix\n",
    "# Y = [[5,8,1,2],\n",
    "#  [6,7,3,0],\n",
    "#  [4,5,9,1]]\n",
    "X = matr\n",
    "Y = matr\n",
    "\n",
    "result = [[0,0,0,0],\n",
    " [0,0,0,0],\n",
    " [0,0,0,0],\n",
    " [0,0,0,0]]\n",
    "\n",
    "# iterate through rows of X\n",
    "for i in range(len(X)):\n",
    " # iterate through columns of Y\n",
    "      for j in range(len(Y[0])):\n",
    " # iterate through rows of Y\n",
    "              for k in range(len(Y)):\n",
    "                      result[i][j] += X[i][k] * Y[k][j]\n",
    "\n",
    "for r in result:\n",
    "      print(r)"
   ]
  },
  {
   "cell_type": "code",
   "execution_count": 17,
   "metadata": {},
   "outputs": [
    {
     "name": "stdout",
     "output_type": "stream",
     "text": [
      "[0.5, 0.17, 0.2, 0.13]\n",
      "[0.5, 0.17, 0.2, 0.13]\n",
      "[0.5, 0.17, 0.2, 0.13]\n",
      "[0.5, 0.17, 0.2, 0.13]\n"
     ]
    }
   ],
   "source": [
    "X = result\n",
    "Y = result\n",
    "\n",
    "result = [[0,0,0,0],\n",
    " [0,0,0,0],\n",
    " [0,0,0,0],\n",
    " [0,0,0,0]]\n",
    "\n",
    "# iterate through rows of X\n",
    "for i in range(len(X)):\n",
    " # iterate through columns of Y\n",
    "      for j in range(len(Y[0])):\n",
    " # iterate through rows of Y\n",
    "              for k in range(len(Y)):\n",
    "                      result[i][j] += X[i][k] * Y[k][j]\n",
    "for i in range(len(result)):\n",
    "    for j in range(len(result[0])):\n",
    "        result[i][j]=round(result[i][j],2)\n",
    "for r in result:\n",
    "      print(r)"
   ]
  },
  {
   "cell_type": "code",
   "execution_count": 18,
   "metadata": {},
   "outputs": [
    {
     "name": "stdout",
     "output_type": "stream",
     "text": [
      "0.5\n",
      "0.17\n",
      "0.2\n",
      "0.13\n"
     ]
    }
   ],
   "source": [
    "answ = []\n",
    "for i in range(len(result)):\n",
    "    for j in range(len(result[0])):\n",
    "        if i==j:\n",
    "            answ.append(result[i][j])\n",
    "for el in answ:\n",
    "    print (el)"
   ]
  },
  {
   "cell_type": "code",
   "execution_count": 20,
   "metadata": {},
   "outputs": [
    {
     "data": {
      "text/plain": [
       "0.5"
      ]
     },
     "execution_count": 20,
     "metadata": {},
     "output_type": "execute_result"
    }
   ],
   "source": [
    "round(0.49750000000000005, 2)"
   ]
  },
  {
   "cell_type": "code",
   "execution_count": 21,
   "metadata": {},
   "outputs": [
    {
     "name": "stdout",
     "output_type": "stream",
     "text": [
      "0.50\n"
     ]
    }
   ],
   "source": [
    "import decimal\n",
    "dec = decimal.Decimal(0.49750000000000005)\n",
    "print(round(dec, 2))"
   ]
  },
  {
   "cell_type": "code",
   "execution_count": 31,
   "metadata": {},
   "outputs": [
    {
     "name": "stdout",
     "output_type": "stream",
     "text": [
      "[[0, 0, 0, 0], [0, 0, 0, 0], [0, 0, 0, 0], [0, 0, 0, 0]]\n"
     ]
    }
   ],
   "source": [
    "# result2 = []\n",
    "# for i in range(int(n)):\n",
    "#     result2.append([])\n",
    "#     for j in range(int(n)):\n",
    "#         result2[i].append(0)\n",
    "\n",
    "# print(result2)\n",
    "\n",
    "# def mult(matrica, step, result):\n",
    "#     if step==1:\n",
    "#         return matrica\n",
    "#     else:\n",
    "#         for i in range(len(matrica)):\n",
    "#             for j in range(len(matrica[0])):\n",
    "#                 for k in range(len(matrica)):\n",
    "#                     result[i][j] += matrica[i][k] * mult[k][j](matrica, step-1, result)\n",
    "#         return result"
   ]
  },
  {
   "cell_type": "code",
   "execution_count": 37,
   "metadata": {},
   "outputs": [
    {
     "name": "stdout",
     "output_type": "stream",
     "text": [
      "s\n",
      "s\n",
      "s\n",
      "[[0.502175, 0.17015000000000008, 0.1973375, 0.13033750000000002], [0.5028874999999999, 0.17093750000000005, 0.196475, 0.1297], [0.50095, 0.17090000000000005, 0.1977625, 0.13038750000000002], [0.50205625, 0.16994375000000003, 0.19751875000000002, 0.13048125000000002]]\n"
     ]
    }
   ],
   "source": [
    "result3 = matr\n",
    "\n",
    "for _ in range(int(n)-1):\n",
    "    \n",
    "    resul = []\n",
    "    for i in range(int(n)):\n",
    "        resul.append([])\n",
    "        for j in range(int(n)):\n",
    "            resul[i].append(0)\n",
    "    print('s')\n",
    "    for i in range(len(matr)):\n",
    "        for j in range(len(result3[0])):\n",
    "            for k in range(len(result3)):\n",
    "                resul[i][j] += matr[i][k] * result3[k][j]\n",
    "    result3 = resul\n",
    "print(result3)"
   ]
  },
  {
   "cell_type": "code",
   "execution_count": 44,
   "metadata": {},
   "outputs": [
    {
     "name": "stdout",
     "output_type": "stream",
     "text": [
      "0.50 0.17 0.20 0.13\n"
     ]
    }
   ],
   "source": [
    "import decimal\n",
    "answ = []\n",
    "for i in range(len(result)):\n",
    "    for j in range(len(result[0])):\n",
    "        if i==j:\n",
    "            answ.append(round(decimal.Decimal(result[i][j]),2))\n",
    "string = ''\n",
    "for elem in answ:\n",
    "    string =string+str(elem)+' '\n",
    "print(string[0:len(string)-1])"
   ]
  },
  {
   "cell_type": "code",
   "execution_count": null,
   "metadata": {
    "collapsed": true
   },
   "outputs": [],
   "source": []
  }
 ],
 "metadata": {
  "kernelspec": {
   "display_name": "Python 3",
   "language": "python",
   "name": "python3"
  },
  "language_info": {
   "codemirror_mode": {
    "name": "ipython",
    "version": 3
   },
   "file_extension": ".py",
   "mimetype": "text/x-python",
   "name": "python",
   "nbconvert_exporter": "python",
   "pygments_lexer": "ipython3",
   "version": "3.6.3"
  }
 },
 "nbformat": 4,
 "nbformat_minor": 2
}
